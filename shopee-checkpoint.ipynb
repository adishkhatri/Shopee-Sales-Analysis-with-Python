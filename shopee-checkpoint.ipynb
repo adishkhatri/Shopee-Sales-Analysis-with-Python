{
 "cells": [
  {
   "cell_type": "code",
   "execution_count": 3,
   "id": "34596a42-651b-46da-b1b0-ff8bcb410e69",
   "metadata": {},
   "outputs": [],
   "source": [
    "import pandas as pd"
   ]
  },
  {
   "cell_type": "markdown",
   "id": "1aa414ee-56ed-4b69-93f1-979b1db63bc7",
   "metadata": {},
   "source": [
    "##Load CSV file "
   ]
  },
  {
   "cell_type": "code",
   "execution_count": 4,
   "id": "ce58356b-489e-4c17-97ba-3317aa0ccf5e",
   "metadata": {},
   "outputs": [],
   "source": [
    "df=pd.read_csv('C:/Users/acer/Downloads/shopee/shopee.csv')\n"
   ]
  },
  {
   "cell_type": "code",
   "execution_count": 5,
   "id": "3fc9d500-855c-41f8-8729-6db516b23e30",
   "metadata": {},
   "outputs": [],
   "source": [
    "dff=df"
   ]
  },
  {
   "cell_type": "markdown",
   "id": "a8eb7545-5b75-4836-807b-425cb08aa0dc",
   "metadata": {},
   "source": [
    "#Data Cleaning Process"
   ]
  },
  {
   "cell_type": "code",
   "execution_count": 6,
   "id": "528826d8-af57-40ce-95d4-23e9a9570cdf",
   "metadata": {},
   "outputs": [
    {
     "data": {
      "text/plain": [
       "Index(['price_ori', 'delivery', 'item_category_detail', 'specification',\n",
       "       'title', 'w_date', 'link_ori', 'item_rating', 'seller_name',\n",
       "       'idElastic', 'price_actual', 'sitename', 'idHash', 'total_rating', 'id',\n",
       "       'total_sold', 'pict_link', 'favorite', 'timestamp', 'desc'],\n",
       "      dtype='object')"
      ]
     },
     "execution_count": 6,
     "metadata": {},
     "output_type": "execute_result"
    }
   ],
   "source": [
    "df.columns"
   ]
  },
  {
   "cell_type": "markdown",
   "id": "eaf16c93-bc52-46e6-9f6a-7fab78a470f8",
   "metadata": {},
   "source": [
    "#Renaming column "
   ]
  },
  {
   "cell_type": "code",
   "execution_count": 7,
   "id": "4ae5ea71-db22-42f1-8f19-03c84e7feb19",
   "metadata": {},
   "outputs": [],
   "source": [
    "\n",
    "df.rename({'price_ori':'selling_price', 'delivery':'delivery_location', 'item_category_detail':'item_category',\n",
    "       'title':'name', 'w_date':'order_date', 'link_ori':'product_link', 'item_rating':'rating',\n",
    "              'pict_link':'product_link'},axis='columns', inplace=True)\n",
    "\n"
   ]
  },
  {
   "cell_type": "markdown",
   "id": "bcd90ec4-8cb9-4340-98a5-1b414cfb0151",
   "metadata": {},
   "source": [
    "Dropping column"
   ]
  },
  {
   "cell_type": "code",
   "execution_count": 8,
   "id": "17e038ee-a02e-472f-8005-e1422b50d78f",
   "metadata": {},
   "outputs": [],
   "source": [
    "df=df.drop(['idElastic','idHash','timestamp'],axis=1)\n",
    "\n"
   ]
  },
  {
   "cell_type": "code",
   "execution_count": 9,
   "id": "d5c7b427-3547-4353-9878-f70f57f2841c",
   "metadata": {},
   "outputs": [],
   "source": [
    "df=df.drop(['total_sold'],axis=1)\n"
   ]
  },
  {
   "cell_type": "code",
   "execution_count": 10,
   "id": "d731af1c-d14b-4f6f-9c63-f602222059f8",
   "metadata": {},
   "outputs": [
    {
     "name": "stdout",
     "output_type": "stream",
     "text": [
      "<class 'pandas.core.frame.DataFrame'>\n",
      "RangeIndex: 20312 entries, 0 to 20311\n",
      "Data columns (total 16 columns):\n",
      " #   Column             Non-Null Count  Dtype         \n",
      "---  ------             --------------  -----         \n",
      " 0   selling_price      20112 non-null  float64       \n",
      " 1   delivery_location  6558 non-null   object        \n",
      " 2   item_category      20312 non-null  object        \n",
      " 3   specification      20301 non-null  object        \n",
      " 4   name               20312 non-null  object        \n",
      " 5   order_date         20312 non-null  datetime64[ns]\n",
      " 6   product_link       20312 non-null  object        \n",
      " 7   rating             20301 non-null  object        \n",
      " 8   seller_name        20301 non-null  object        \n",
      " 9   price_actual       20297 non-null  float64       \n",
      " 10  sitename           20312 non-null  object        \n",
      " 11  total_rating       20301 non-null  object        \n",
      " 12  id                 20312 non-null  object        \n",
      " 13  product_link       20312 non-null  object        \n",
      " 14  favorite           19242 non-null  object        \n",
      " 15  desc               20312 non-null  object        \n",
      "dtypes: datetime64[ns](1), float64(2), object(13)\n",
      "memory usage: 2.5+ MB\n"
     ]
    }
   ],
   "source": [
    "df['order_date']=pd.to_datetime(df['order_date'])\n",
    "df.info()"
   ]
  },
  {
   "cell_type": "markdown",
   "id": "0be7b6b6-4935-41b5-a4d1-864641af6cae",
   "metadata": {},
   "source": [
    "Converting column to numeric and replace k with multiply by 1000"
   ]
  },
  {
   "cell_type": "code",
   "execution_count": 11,
   "id": "f8de5c37-7fd0-4090-a780-a841d39f94cd",
   "metadata": {},
   "outputs": [],
   "source": [
    "def convert_to_numeric(value):\n",
    "    if isinstance(value, str):\n",
    "        if 'k' in value:\n",
    "            return float(value.replace('k', '')) * 1000\n",
    "        else:\n",
    "            return float(value)\n",
    "    else:\n",
    "        return value\n",
    "\n",
    "\n",
    "df['total_rating'] = df['total_rating'].apply(convert_to_numeric)"
   ]
  },
  {
   "cell_type": "code",
   "execution_count": 12,
   "id": "97c88254-59ed-4f56-bc42-94e4d988bc1f",
   "metadata": {},
   "outputs": [
    {
     "data": {
      "text/plain": [
       "array([1.79e+02, 1.70e+01, 8.10e+03, ..., 3.05e+04, 6.83e+04, 2.94e+04])"
      ]
     },
     "execution_count": 12,
     "metadata": {},
     "output_type": "execute_result"
    }
   ],
   "source": [
    "df.total_rating.unique()"
   ]
  },
  {
   "cell_type": "code",
   "execution_count": 13,
   "id": "abff15f5-fb18-4e2d-80eb-e68f7f2d6c72",
   "metadata": {},
   "outputs": [],
   "source": [
    "df['total_rating'] = df['total_rating'].apply(lambda x: '{:.2f}'.format(x))"
   ]
  },
  {
   "cell_type": "markdown",
   "id": "4b3a8576-5acd-478e-85f1-62c3feadcd3c",
   "metadata": {},
   "source": [
    "Same to another column"
   ]
  },
  {
   "cell_type": "code",
   "execution_count": 14,
   "id": "9645a768-e5c2-4293-b810-622cde9fd141",
   "metadata": {},
   "outputs": [
    {
     "data": {
      "text/plain": [
       "array([   1, 1000], dtype=int64)"
      ]
     },
     "execution_count": 14,
     "metadata": {},
     "output_type": "execute_result"
    }
   ],
   "source": [
    "def check_k(value):\n",
    "    if isinstance(value, str) and 'k' in value:\n",
    "        return 1000\n",
    "    else:\n",
    "        return 1\n",
    "\n",
    "# Apply the function to create a new column\n",
    "dff['new_column'] = dff['total_rating'].apply(lambda x: check_k(x))\n",
    "dff.new_column.unique()"
   ]
  },
  {
   "cell_type": "code",
   "execution_count": 15,
   "id": "11f8717b-a98d-41c0-96a2-68fd5906c842",
   "metadata": {},
   "outputs": [],
   "source": [
    "dff['total_rating']=dff['total_rating'].str.replace('k','').astype(float)"
   ]
  },
  {
   "cell_type": "code",
   "execution_count": 16,
   "id": "f929c2bf-0032-4689-bed4-3489589c87d9",
   "metadata": {},
   "outputs": [],
   "source": [
    "dff['total_rating']=dff['total_rating']*dff['new_column']\n"
   ]
  },
  {
   "cell_type": "code",
   "execution_count": 17,
   "id": "b7d27161-6c09-442d-a2c5-339f8c6e3593",
   "metadata": {},
   "outputs": [
    {
     "name": "stdout",
     "output_type": "stream",
     "text": [
      "<class 'pandas.core.frame.DataFrame'>\n",
      "RangeIndex: 20312 entries, 0 to 20311\n",
      "Data columns (total 21 columns):\n",
      " #   Column             Non-Null Count  Dtype  \n",
      "---  ------             --------------  -----  \n",
      " 0   selling_price      20112 non-null  float64\n",
      " 1   delivery_location  6558 non-null   object \n",
      " 2   item_category      20312 non-null  object \n",
      " 3   specification      20301 non-null  object \n",
      " 4   name               20312 non-null  object \n",
      " 5   order_date         20312 non-null  object \n",
      " 6   product_link       20312 non-null  object \n",
      " 7   rating             20301 non-null  object \n",
      " 8   seller_name        20301 non-null  object \n",
      " 9   idElastic          20312 non-null  object \n",
      " 10  price_actual       20297 non-null  float64\n",
      " 11  sitename           20312 non-null  object \n",
      " 12  idHash             20312 non-null  object \n",
      " 13  total_rating       20301 non-null  float64\n",
      " 14  id                 20312 non-null  object \n",
      " 15  total_sold         20301 non-null  object \n",
      " 16  product_link       20312 non-null  object \n",
      " 17  favorite           19242 non-null  object \n",
      " 18  timestamp          20312 non-null  int64  \n",
      " 19  desc               20312 non-null  object \n",
      " 20  new_column         20312 non-null  int64  \n",
      "dtypes: float64(3), int64(2), object(16)\n",
      "memory usage: 3.3+ MB\n"
     ]
    }
   ],
   "source": [
    "dff.info()"
   ]
  },
  {
   "cell_type": "code",
   "execution_count": 18,
   "id": "9400948a-0461-46ad-9169-acaac026d0c6",
   "metadata": {},
   "outputs": [],
   "source": [
    "df.favorite.unique()\n",
    "import re"
   ]
  },
  {
   "cell_type": "code",
   "execution_count": 19,
   "id": "72adef7c-b52f-43f6-b042-b2303be39b11",
   "metadata": {},
   "outputs": [
    {
     "data": {
      "text/plain": [
       "array([1.28e+02, 1.90e+01, 2.15e+04, ..., 7.65e+02, 4.15e+04, 2.58e+04])"
      ]
     },
     "execution_count": 19,
     "metadata": {},
     "output_type": "execute_result"
    }
   ],
   "source": [
    "def extract_numeric(value):\n",
    "    if isinstance(value, str):\n",
    "        # Use regular expression to find the numerical part\n",
    "        matches = re.findall(r'\\d*\\.?\\d+', value)\n",
    "        # Check if matches exist\n",
    "        if matches:\n",
    "            num_part = matches[0]\n",
    "            # Convert 'k' to thousand\n",
    "            if 'k' in value:\n",
    "                return float(num_part) * 1000\n",
    "            else:\n",
    "                return float(num_part)\n",
    "        else:\n",
    "            return 0\n",
    "    else:\n",
    "        return value\n",
    "\n",
    "# Apply the function to the column\n",
    "df['favorite'] = df['favorite'].apply(extract_numeric)\n",
    "df.favorite.unique()"
   ]
  },
  {
   "cell_type": "code",
   "execution_count": 20,
   "id": "09609725-a15c-4fc1-9eb0-71b459c7339a",
   "metadata": {},
   "outputs": [],
   "source": [
    "df['favorite'] = df['favorite'].apply(lambda x: '{:.2f}'.format(x))\n"
   ]
  },
  {
   "cell_type": "code",
   "execution_count": 21,
   "id": "1ccfea1a-c964-4aec-bbaf-d388169b07ae",
   "metadata": {},
   "outputs": [],
   "source": [
    "df['favorite'] = df['favorite'].astype(float)\n",
    "df['total_rating'] = df['total_rating'].astype(float)"
   ]
  },
  {
   "cell_type": "code",
   "execution_count": 22,
   "id": "bb75ec3e-dc0b-4832-8b8f-ca4e50a54b2a",
   "metadata": {},
   "outputs": [
    {
     "name": "stdout",
     "output_type": "stream",
     "text": [
      "<class 'pandas.core.frame.DataFrame'>\n",
      "RangeIndex: 20312 entries, 0 to 20311\n",
      "Data columns (total 16 columns):\n",
      " #   Column             Non-Null Count  Dtype         \n",
      "---  ------             --------------  -----         \n",
      " 0   selling_price      20112 non-null  float64       \n",
      " 1   delivery_location  6558 non-null   object        \n",
      " 2   item_category      20312 non-null  object        \n",
      " 3   specification      20301 non-null  object        \n",
      " 4   name               20312 non-null  object        \n",
      " 5   order_date         20312 non-null  datetime64[ns]\n",
      " 6   product_link       20312 non-null  object        \n",
      " 7   rating             20301 non-null  object        \n",
      " 8   seller_name        20301 non-null  object        \n",
      " 9   price_actual       20297 non-null  float64       \n",
      " 10  sitename           20312 non-null  object        \n",
      " 11  total_rating       20301 non-null  float64       \n",
      " 12  id                 20312 non-null  object        \n",
      " 13  product_link       20312 non-null  object        \n",
      " 14  favorite           19242 non-null  float64       \n",
      " 15  desc               20312 non-null  object        \n",
      "dtypes: datetime64[ns](1), float64(4), object(11)\n",
      "memory usage: 2.5+ MB\n"
     ]
    }
   ],
   "source": [
    "df.info()"
   ]
  },
  {
   "cell_type": "code",
   "execution_count": 23,
   "id": "1a71a136-2d75-49cf-a695-356eb5b2ea18",
   "metadata": {},
   "outputs": [
    {
     "data": {
      "text/html": [
       "<div>\n",
       "<style scoped>\n",
       "    .dataframe tbody tr th:only-of-type {\n",
       "        vertical-align: middle;\n",
       "    }\n",
       "\n",
       "    .dataframe tbody tr th {\n",
       "        vertical-align: top;\n",
       "    }\n",
       "\n",
       "    .dataframe thead th {\n",
       "        text-align: right;\n",
       "    }\n",
       "</style>\n",
       "<table border=\"1\" class=\"dataframe\">\n",
       "  <thead>\n",
       "    <tr style=\"text-align: right;\">\n",
       "      <th></th>\n",
       "      <th>selling_price</th>\n",
       "      <th>delivery_location</th>\n",
       "      <th>item_category</th>\n",
       "      <th>specification</th>\n",
       "      <th>name</th>\n",
       "      <th>order_date</th>\n",
       "      <th>product_link</th>\n",
       "      <th>rating</th>\n",
       "      <th>seller_name</th>\n",
       "      <th>price_actual</th>\n",
       "      <th>sitename</th>\n",
       "      <th>total_rating</th>\n",
       "      <th>id</th>\n",
       "      <th>product_link</th>\n",
       "      <th>favorite</th>\n",
       "      <th>desc</th>\n",
       "    </tr>\n",
       "  </thead>\n",
       "  <tbody>\n",
       "    <tr>\n",
       "      <th>0</th>\n",
       "      <td>25.80</td>\n",
       "      <td>KL City, Kuala Lumpur</td>\n",
       "      <td>Shopee | Women's Bags | Shoulder Bags | Should...</td>\n",
       "      <td>Product Specifications Category Shopee Women's...</td>\n",
       "      <td>1081 PU SLING BAG KULIT leather Casual Beg Tan...</td>\n",
       "      <td>2023-04-27</td>\n",
       "      <td>https://shopee.com.my/1081-PU-SLING-BAG-KULIT-...</td>\n",
       "      <td>4.9</td>\n",
       "      <td>qqfwholesale</td>\n",
       "      <td>12.90</td>\n",
       "      <td>shopee</td>\n",
       "      <td>179.0</td>\n",
       "      <td>88f051f0a2dcf0d29191e0175b828938</td>\n",
       "      <td>https://down-my.img.susercontent.com/file/my-1...</td>\n",
       "      <td>128.0</td>\n",
       "      <td>🎉 WELCOME To QQF WHOLESALE \\r\\n😍 ALL item read...</td>\n",
       "    </tr>\n",
       "    <tr>\n",
       "      <th>1</th>\n",
       "      <td>1.41</td>\n",
       "      <td>NaN</td>\n",
       "      <td>Shopee | Home Appliances | Sewing Machines | S...</td>\n",
       "      <td>Product Specifications Category Shopee Home Ap...</td>\n",
       "      <td>Stat Chinese Traditional Frog Buttons Knot Che...</td>\n",
       "      <td>2023-04-27</td>\n",
       "      <td>https://shopee.com.my/Stat-Chinese-Traditional...</td>\n",
       "      <td>5.0</td>\n",
       "      <td>stationery.my</td>\n",
       "      <td>0.75</td>\n",
       "      <td>shopee</td>\n",
       "      <td>17.0</td>\n",
       "      <td>472d22f58af3bb35cf28c6eed7088dc5</td>\n",
       "      <td>https://down-my.img.susercontent.com/file/4147...</td>\n",
       "      <td>19.0</td>\n",
       "      <td>Chinese Traditional Frog Buttons Knot Cheongsa...</td>\n",
       "    </tr>\n",
       "    <tr>\n",
       "      <th>2</th>\n",
       "      <td>8.50</td>\n",
       "      <td>KL City, Kuala Lumpur</td>\n",
       "      <td>Shopee | Women's Bags | Handbags | Set Handbags</td>\n",
       "      <td>Product Specifications Category Shopee Women's...</td>\n",
       "      <td>N09 READY STOCK MYFOOYIN woman handbag set 2in...</td>\n",
       "      <td>2023-04-26</td>\n",
       "      <td>https://shopee.com.my/N09-READY-STOCK-MYFOOYIN...</td>\n",
       "      <td>4.9</td>\n",
       "      <td>fooyin88</td>\n",
       "      <td>8.50</td>\n",
       "      <td>shopee</td>\n",
       "      <td>8100.0</td>\n",
       "      <td>ec6ce64f4b77efb38b6392818959f181</td>\n",
       "      <td>https://down-my.img.susercontent.com/file/23da...</td>\n",
       "      <td>21500.0</td>\n",
       "      <td>READY STOCK\\nMEASUREMENT:\\nLONG 26CM X HEIGHT ...</td>\n",
       "    </tr>\n",
       "    <tr>\n",
       "      <th>3</th>\n",
       "      <td>8.70</td>\n",
       "      <td>NaN</td>\n",
       "      <td>Shopee | Women Clothes | Maternity Wear | Inne...</td>\n",
       "      <td>Product Specifications Category Shopee Women C...</td>\n",
       "      <td>🔥Shocking Sale🔥Cotton Comfort Nursing Bra Brea...</td>\n",
       "      <td>2023-04-26</td>\n",
       "      <td>https://shopee.com.my/%F0%9F%94%A5Shocking-Sal...</td>\n",
       "      <td>4.9</td>\n",
       "      <td>vivi2002</td>\n",
       "      <td>8.70</td>\n",
       "      <td>shopee</td>\n",
       "      <td>6500.0</td>\n",
       "      <td>ef4e0e17fdc7d0125d8609dcc395bc3d</td>\n",
       "      <td>https://down-my.img.susercontent.com/file/df47...</td>\n",
       "      <td>3400.0</td>\n",
       "      <td>PRODUCT DESCRIPTION\\nMaterial:95%Cotton+5%Span...</td>\n",
       "    </tr>\n",
       "    <tr>\n",
       "      <th>4</th>\n",
       "      <td>3999.00</td>\n",
       "      <td>KL City, Kuala Lumpur</td>\n",
       "      <td>Shopee | Cameras &amp; Drones | DSLR Cameras | DSLRs</td>\n",
       "      <td>Product Specifications Category Shopee Cameras...</td>\n",
       "      <td>Canon EOS 70D 18-55mm IS STM Original+64gb+ext...</td>\n",
       "      <td>2023-04-26</td>\n",
       "      <td>https://shopee.com.my/Canon-EOS-70D-18-55mm-IS...</td>\n",
       "      <td>5.0</td>\n",
       "      <td>xpro.gadget</td>\n",
       "      <td>2739.00</td>\n",
       "      <td>shopee</td>\n",
       "      <td>10.0</td>\n",
       "      <td>568c2029fed7d22973ff96d0404a8ff8</td>\n",
       "      <td>https://down-my.img.susercontent.com/file/4d3a...</td>\n",
       "      <td>132.0</td>\n",
       "      <td>Canon 70D\\nHighlights\\nEF-S 18-55mm f/3.5-5.6 ...</td>\n",
       "    </tr>\n",
       "    <tr>\n",
       "      <th>...</th>\n",
       "      <td>...</td>\n",
       "      <td>...</td>\n",
       "      <td>...</td>\n",
       "      <td>...</td>\n",
       "      <td>...</td>\n",
       "      <td>...</td>\n",
       "      <td>...</td>\n",
       "      <td>...</td>\n",
       "      <td>...</td>\n",
       "      <td>...</td>\n",
       "      <td>...</td>\n",
       "      <td>...</td>\n",
       "      <td>...</td>\n",
       "      <td>...</td>\n",
       "      <td>...</td>\n",
       "      <td>...</td>\n",
       "    </tr>\n",
       "    <tr>\n",
       "      <th>20307</th>\n",
       "      <td>50.60</td>\n",
       "      <td>NaN</td>\n",
       "      <td>Shopee | Baby &amp; Toys | Girls Fashion | Girl Shoes</td>\n",
       "      <td>Product Specifications Category Shopee Baby &amp; ...</td>\n",
       "      <td>Elegant All-match Girls Leather Flat Shoes Pea...</td>\n",
       "      <td>2023-05-13</td>\n",
       "      <td>https://shopee.com.my/Elegant-All-match-Girls-...</td>\n",
       "      <td>4.9</td>\n",
       "      <td>amour.my</td>\n",
       "      <td>30.36</td>\n",
       "      <td>shopee</td>\n",
       "      <td>219.0</td>\n",
       "      <td>d8455ff553c9a2739d1bb6bd1f775f7c</td>\n",
       "      <td>https://down-my.img.susercontent.com/file/1b02...</td>\n",
       "      <td>1600.0</td>\n",
       "      <td>1 cm = 0.3937 inch \\r\\n-----------------------...</td>\n",
       "    </tr>\n",
       "    <tr>\n",
       "      <th>20308</th>\n",
       "      <td>32.00</td>\n",
       "      <td>NaN</td>\n",
       "      <td>Shopee | Baby &amp; Toys | Girls Fashion | Girl Dr...</td>\n",
       "      <td>Product Specifications Category Shopee Baby &amp; ...</td>\n",
       "      <td>Baju Raya kids 2023(v1) | Shopee Malaysia</td>\n",
       "      <td>2023-05-13</td>\n",
       "      <td>https://shopee.com.my/Baju-Raya-kids-2023%28v1...</td>\n",
       "      <td>4.8</td>\n",
       "      <td>mazu9</td>\n",
       "      <td>32.00</td>\n",
       "      <td>shopee</td>\n",
       "      <td>215.0</td>\n",
       "      <td>50bf7d6c1a1a2c812de434ab593f619d</td>\n",
       "      <td>https://down-my.img.susercontent.com/file/my-1...</td>\n",
       "      <td>304.0</td>\n",
       "      <td>M G FASHION\\n-stylist fashionable\\n-comfortab...</td>\n",
       "    </tr>\n",
       "    <tr>\n",
       "      <th>20309</th>\n",
       "      <td>4.98</td>\n",
       "      <td>NaN</td>\n",
       "      <td>Shopee | Muslim Fashion | Kain Pasang &amp; Songke...</td>\n",
       "      <td>Product Specifications Category Shopee Muslim ...</td>\n",
       "      <td>Kain como crepe heavy premium (harga untk 0.5m...</td>\n",
       "      <td>2023-05-13</td>\n",
       "      <td>https://shopee.com.my/Kain-como-crepe-heavy-pr...</td>\n",
       "      <td>4.7</td>\n",
       "      <td>nurlainafashionzone</td>\n",
       "      <td>2.49</td>\n",
       "      <td>shopee</td>\n",
       "      <td>152.0</td>\n",
       "      <td>540c0f2b0626585b648044b4d37c82f5</td>\n",
       "      <td>https://down-my.img.susercontent.com/file/sg-1...</td>\n",
       "      <td>98.0</td>\n",
       "      <td>Harga utk 0.5m@setengah meter / HARGA BUKAN U...</td>\n",
       "    </tr>\n",
       "    <tr>\n",
       "      <th>20310</th>\n",
       "      <td>0.30</td>\n",
       "      <td>NaN</td>\n",
       "      <td>Shopee | Baby &amp; Toys | Others | Others</td>\n",
       "      <td>Product Specifications Category Shopee Baby &amp; ...</td>\n",
       "      <td>Doorgift Bag Birthday Kids Drawstring Organize...</td>\n",
       "      <td>2023-05-13</td>\n",
       "      <td>https://shopee.com.my/Doorgift-Bag-Birthday-Ki...</td>\n",
       "      <td>4.9</td>\n",
       "      <td>pbs_empire</td>\n",
       "      <td>0.30</td>\n",
       "      <td>shopee</td>\n",
       "      <td>16.0</td>\n",
       "      <td>d6e4238bc9dc70b300d54abd1ad2eccf</td>\n",
       "      <td>https://down-my.img.susercontent.com/file/54f1...</td>\n",
       "      <td>27.0</td>\n",
       "      <td>Custom made Ready Stock in Malaysia\\nUnicorn S...</td>\n",
       "    </tr>\n",
       "    <tr>\n",
       "      <th>20311</th>\n",
       "      <td>25.00</td>\n",
       "      <td>NaN</td>\n",
       "      <td>Shopee | Fashion Accessories | Eyewear | Eyegl...</td>\n",
       "      <td>Product Specifications Category Shopee Fashion...</td>\n",
       "      <td>Chris kacamata hitam anti silau | Shopee Malaysia</td>\n",
       "      <td>2023-05-13</td>\n",
       "      <td>https://shopee.com.my/Chris-kacamata-hitam-ant...</td>\n",
       "      <td>4.6</td>\n",
       "      <td>ilham02_02</td>\n",
       "      <td>25.00</td>\n",
       "      <td>shopee</td>\n",
       "      <td>89.0</td>\n",
       "      <td>d68e3099f5998e53d9d39893be6730f7</td>\n",
       "      <td>https://down-my.img.susercontent.com/file/sg-1...</td>\n",
       "      <td>61.0</td>\n",
       "      <td>@normal set bermaksud anda dapat set cermin ma...</td>\n",
       "    </tr>\n",
       "  </tbody>\n",
       "</table>\n",
       "<p>20312 rows × 16 columns</p>\n",
       "</div>"
      ],
      "text/plain": [
       "       selling_price      delivery_location  \\\n",
       "0              25.80  KL City, Kuala Lumpur   \n",
       "1               1.41                    NaN   \n",
       "2               8.50  KL City, Kuala Lumpur   \n",
       "3               8.70                    NaN   \n",
       "4            3999.00  KL City, Kuala Lumpur   \n",
       "...              ...                    ...   \n",
       "20307          50.60                    NaN   \n",
       "20308          32.00                    NaN   \n",
       "20309           4.98                    NaN   \n",
       "20310           0.30                    NaN   \n",
       "20311          25.00                    NaN   \n",
       "\n",
       "                                           item_category  \\\n",
       "0      Shopee | Women's Bags | Shoulder Bags | Should...   \n",
       "1      Shopee | Home Appliances | Sewing Machines | S...   \n",
       "2        Shopee | Women's Bags | Handbags | Set Handbags   \n",
       "3      Shopee | Women Clothes | Maternity Wear | Inne...   \n",
       "4       Shopee | Cameras & Drones | DSLR Cameras | DSLRs   \n",
       "...                                                  ...   \n",
       "20307  Shopee | Baby & Toys | Girls Fashion | Girl Shoes   \n",
       "20308  Shopee | Baby & Toys | Girls Fashion | Girl Dr...   \n",
       "20309  Shopee | Muslim Fashion | Kain Pasang & Songke...   \n",
       "20310             Shopee | Baby & Toys | Others | Others   \n",
       "20311  Shopee | Fashion Accessories | Eyewear | Eyegl...   \n",
       "\n",
       "                                           specification  \\\n",
       "0      Product Specifications Category Shopee Women's...   \n",
       "1      Product Specifications Category Shopee Home Ap...   \n",
       "2      Product Specifications Category Shopee Women's...   \n",
       "3      Product Specifications Category Shopee Women C...   \n",
       "4      Product Specifications Category Shopee Cameras...   \n",
       "...                                                  ...   \n",
       "20307  Product Specifications Category Shopee Baby & ...   \n",
       "20308  Product Specifications Category Shopee Baby & ...   \n",
       "20309  Product Specifications Category Shopee Muslim ...   \n",
       "20310  Product Specifications Category Shopee Baby & ...   \n",
       "20311  Product Specifications Category Shopee Fashion...   \n",
       "\n",
       "                                                    name order_date  \\\n",
       "0      1081 PU SLING BAG KULIT leather Casual Beg Tan... 2023-04-27   \n",
       "1      Stat Chinese Traditional Frog Buttons Knot Che... 2023-04-27   \n",
       "2      N09 READY STOCK MYFOOYIN woman handbag set 2in... 2023-04-26   \n",
       "3      🔥Shocking Sale🔥Cotton Comfort Nursing Bra Brea... 2023-04-26   \n",
       "4      Canon EOS 70D 18-55mm IS STM Original+64gb+ext... 2023-04-26   \n",
       "...                                                  ...        ...   \n",
       "20307  Elegant All-match Girls Leather Flat Shoes Pea... 2023-05-13   \n",
       "20308          Baju Raya kids 2023(v1) | Shopee Malaysia 2023-05-13   \n",
       "20309  Kain como crepe heavy premium (harga untk 0.5m... 2023-05-13   \n",
       "20310  Doorgift Bag Birthday Kids Drawstring Organize... 2023-05-13   \n",
       "20311  Chris kacamata hitam anti silau | Shopee Malaysia 2023-05-13   \n",
       "\n",
       "                                            product_link rating  \\\n",
       "0      https://shopee.com.my/1081-PU-SLING-BAG-KULIT-...    4.9   \n",
       "1      https://shopee.com.my/Stat-Chinese-Traditional...    5.0   \n",
       "2      https://shopee.com.my/N09-READY-STOCK-MYFOOYIN...    4.9   \n",
       "3      https://shopee.com.my/%F0%9F%94%A5Shocking-Sal...    4.9   \n",
       "4      https://shopee.com.my/Canon-EOS-70D-18-55mm-IS...    5.0   \n",
       "...                                                  ...    ...   \n",
       "20307  https://shopee.com.my/Elegant-All-match-Girls-...    4.9   \n",
       "20308  https://shopee.com.my/Baju-Raya-kids-2023%28v1...    4.8   \n",
       "20309  https://shopee.com.my/Kain-como-crepe-heavy-pr...    4.7   \n",
       "20310  https://shopee.com.my/Doorgift-Bag-Birthday-Ki...    4.9   \n",
       "20311  https://shopee.com.my/Chris-kacamata-hitam-ant...    4.6   \n",
       "\n",
       "               seller_name  price_actual sitename  total_rating  \\\n",
       "0             qqfwholesale         12.90   shopee         179.0   \n",
       "1            stationery.my          0.75   shopee          17.0   \n",
       "2                 fooyin88          8.50   shopee        8100.0   \n",
       "3                 vivi2002          8.70   shopee        6500.0   \n",
       "4              xpro.gadget       2739.00   shopee          10.0   \n",
       "...                    ...           ...      ...           ...   \n",
       "20307             amour.my         30.36   shopee         219.0   \n",
       "20308                mazu9         32.00   shopee         215.0   \n",
       "20309  nurlainafashionzone          2.49   shopee         152.0   \n",
       "20310           pbs_empire          0.30   shopee          16.0   \n",
       "20311           ilham02_02         25.00   shopee          89.0   \n",
       "\n",
       "                                     id  \\\n",
       "0      88f051f0a2dcf0d29191e0175b828938   \n",
       "1      472d22f58af3bb35cf28c6eed7088dc5   \n",
       "2      ec6ce64f4b77efb38b6392818959f181   \n",
       "3      ef4e0e17fdc7d0125d8609dcc395bc3d   \n",
       "4      568c2029fed7d22973ff96d0404a8ff8   \n",
       "...                                 ...   \n",
       "20307  d8455ff553c9a2739d1bb6bd1f775f7c   \n",
       "20308  50bf7d6c1a1a2c812de434ab593f619d   \n",
       "20309  540c0f2b0626585b648044b4d37c82f5   \n",
       "20310  d6e4238bc9dc70b300d54abd1ad2eccf   \n",
       "20311  d68e3099f5998e53d9d39893be6730f7   \n",
       "\n",
       "                                            product_link  favorite  \\\n",
       "0      https://down-my.img.susercontent.com/file/my-1...     128.0   \n",
       "1      https://down-my.img.susercontent.com/file/4147...      19.0   \n",
       "2      https://down-my.img.susercontent.com/file/23da...   21500.0   \n",
       "3      https://down-my.img.susercontent.com/file/df47...    3400.0   \n",
       "4      https://down-my.img.susercontent.com/file/4d3a...     132.0   \n",
       "...                                                  ...       ...   \n",
       "20307  https://down-my.img.susercontent.com/file/1b02...    1600.0   \n",
       "20308  https://down-my.img.susercontent.com/file/my-1...     304.0   \n",
       "20309  https://down-my.img.susercontent.com/file/sg-1...      98.0   \n",
       "20310  https://down-my.img.susercontent.com/file/54f1...      27.0   \n",
       "20311  https://down-my.img.susercontent.com/file/sg-1...      61.0   \n",
       "\n",
       "                                                    desc  \n",
       "0      🎉 WELCOME To QQF WHOLESALE \\r\\n😍 ALL item read...  \n",
       "1      Chinese Traditional Frog Buttons Knot Cheongsa...  \n",
       "2      READY STOCK\\nMEASUREMENT:\\nLONG 26CM X HEIGHT ...  \n",
       "3      PRODUCT DESCRIPTION\\nMaterial:95%Cotton+5%Span...  \n",
       "4      Canon 70D\\nHighlights\\nEF-S 18-55mm f/3.5-5.6 ...  \n",
       "...                                                  ...  \n",
       "20307  1 cm = 0.3937 inch \\r\\n-----------------------...  \n",
       "20308   M G FASHION\\n-stylist fashionable\\n-comfortab...  \n",
       "20309   Harga utk 0.5m@setengah meter / HARGA BUKAN U...  \n",
       "20310  Custom made Ready Stock in Malaysia\\nUnicorn S...  \n",
       "20311  @normal set bermaksud anda dapat set cermin ma...  \n",
       "\n",
       "[20312 rows x 16 columns]"
      ]
     },
     "execution_count": 23,
     "metadata": {},
     "output_type": "execute_result"
    }
   ],
   "source": [
    "df"
   ]
  },
  {
   "cell_type": "code",
   "execution_count": 24,
   "id": "2d39aedd-5065-4713-ab2f-0a99156d0fa3",
   "metadata": {},
   "outputs": [],
   "source": [
    "import matplotlib.pyplot as plt"
   ]
  },
  {
   "cell_type": "code",
   "execution_count": 25,
   "id": "e9e1e132-b0c5-4b60-951d-33d2c317e719",
   "metadata": {},
   "outputs": [
    {
     "name": "stdout",
     "output_type": "stream",
     "text": [
      "order_date  product_count\n",
      "2023-05-13           3727\n",
      "2023-05-01           3646\n",
      "2023-05-12           2483\n",
      "2023-05-03            985\n",
      "2023-05-11            915\n",
      "2023-05-10            904\n",
      "2023-05-05            852\n",
      "2023-05-08            774\n",
      "2023-05-06            747\n",
      "2023-04-28            629\n",
      "2023-05-07            583\n",
      "2023-04-26            581\n",
      "2023-05-09            571\n",
      "2023-04-25            570\n",
      "2023-04-30            511\n",
      "2023-04-27            486\n",
      "2023-05-02            466\n",
      "2023-04-29            405\n",
      "2023-04-24            276\n",
      "2023-05-04            201\n"
     ]
    }
   ],
   "source": [
    "##Q Show how many products are crawled each date.\n",
    "product_count_per_date = df.groupby('order_date').size().reset_index(name='product_count')\n",
    "product_count_per_date_sorted=product_count_per_date.sort_values(by='product_count',ascending=False)\n",
    "print(product_count_per_date_sorted.to_string(index=False))\n",
    "\n"
   ]
  },
  {
   "cell_type": "code",
   "execution_count": 26,
   "id": "5ef6f45b-f62e-460a-acc8-b36d4653489f",
   "metadata": {},
   "outputs": [
    {
     "data": {
      "text/plain": [
       "array(['Malaysia', 'Overseas'], dtype=object)"
      ]
     },
     "execution_count": 26,
     "metadata": {},
     "output_type": "execute_result"
    }
   ],
   "source": [
    "#Q Show number of listing product based on location. You can extract this from “specification” field.\n",
    "#(use state name (Selangor, Johor, Melaka, etc) if it come from any state in Malaysia,\n",
    "#use ‘Oversea’ as label if it come from outside Malaysia)\n",
    "\n",
    "df['location'] = df['specification'].str.split().str[-1]\n",
    "def main_location(location):\n",
    "    malayasia_location=[\"Johor\", \"Kedah\", \"Kelantan\", \"Melaka\", \"Negeri Sembilan\", \"Pahang\", \"Perak\", \n",
    "                          \"Perlis\", \"Pulau Pinang\", \"Sabah\", \"Sarawak\", \"Selangor\", \"Terengganu\", \n",
    "                          \"Kuala Lumpur\", \"Labuan\", \"Putrajaya\"]\n",
    "    if location in malayasia_location:\n",
    "        return 'Malaysia'\n",
    "    else:\n",
    "        return 'Overseas'\n",
    "\n",
    "df['location']=df['location'].apply(main_location)\n",
    "df.location.unique()    "
   ]
  },
  {
   "cell_type": "code",
   "execution_count": 27,
   "id": "bc428e91-3d47-4312-acfb-39d4d73bf336",
   "metadata": {},
   "outputs": [
    {
     "name": "stdout",
     "output_type": "stream",
     "text": [
      "location  listing_count\n",
      "Malaysia          12340\n",
      "Overseas           7972\n"
     ]
    }
   ],
   "source": [
    "listing_count_per_location = df.groupby('location').size().reset_index(name='listing_count').sort_values(by='listing_count',ascending=False)\n",
    "print(listing_count_per_location.to_string(index=False))"
   ]
  },
  {
   "cell_type": "code",
   "execution_count": 28,
   "id": "7df09ba7-4ec0-446c-94d0-dddf7d815155",
   "metadata": {},
   "outputs": [
    {
     "data": {
      "text/html": [
       "<div>\n",
       "<style scoped>\n",
       "    .dataframe tbody tr th:only-of-type {\n",
       "        vertical-align: middle;\n",
       "    }\n",
       "\n",
       "    .dataframe tbody tr th {\n",
       "        vertical-align: top;\n",
       "    }\n",
       "\n",
       "    .dataframe thead th {\n",
       "        text-align: right;\n",
       "    }\n",
       "</style>\n",
       "<table border=\"1\" class=\"dataframe\">\n",
       "  <thead>\n",
       "    <tr style=\"text-align: right;\">\n",
       "      <th></th>\n",
       "      <th>item_category</th>\n",
       "      <th>main_category</th>\n",
       "      <th>subcategory_1</th>\n",
       "      <th>subcategory_2</th>\n",
       "    </tr>\n",
       "  </thead>\n",
       "  <tbody>\n",
       "    <tr>\n",
       "      <th>0</th>\n",
       "      <td>Shopee | Women's Bags | Shoulder Bags | Should...</td>\n",
       "      <td>Women's Bags</td>\n",
       "      <td>Shoulder Bags</td>\n",
       "      <td>Shoulder Bags</td>\n",
       "    </tr>\n",
       "    <tr>\n",
       "      <th>1</th>\n",
       "      <td>Shopee | Home Appliances | Sewing Machines | S...</td>\n",
       "      <td>Home Appliances</td>\n",
       "      <td>Sewing Machines</td>\n",
       "      <td>Sewing Machines and Accessories</td>\n",
       "    </tr>\n",
       "    <tr>\n",
       "      <th>2</th>\n",
       "      <td>Shopee | Women's Bags | Handbags | Set Handbags</td>\n",
       "      <td>Women's Bags</td>\n",
       "      <td>Handbags</td>\n",
       "      <td>Set Handbags</td>\n",
       "    </tr>\n",
       "    <tr>\n",
       "      <th>3</th>\n",
       "      <td>Shopee | Women Clothes | Maternity Wear | Inne...</td>\n",
       "      <td>Women Clothes</td>\n",
       "      <td>Maternity Wear</td>\n",
       "      <td>Innerwear</td>\n",
       "    </tr>\n",
       "    <tr>\n",
       "      <th>4</th>\n",
       "      <td>Shopee | Cameras &amp; Drones | DSLR Cameras | DSLRs</td>\n",
       "      <td>Cameras &amp; Drones</td>\n",
       "      <td>DSLR Cameras</td>\n",
       "      <td>DSLRs</td>\n",
       "    </tr>\n",
       "    <tr>\n",
       "      <th>...</th>\n",
       "      <td>...</td>\n",
       "      <td>...</td>\n",
       "      <td>...</td>\n",
       "      <td>...</td>\n",
       "    </tr>\n",
       "    <tr>\n",
       "      <th>20307</th>\n",
       "      <td>Shopee | Baby &amp; Toys | Girls Fashion | Girl Shoes</td>\n",
       "      <td>Baby &amp; Toys</td>\n",
       "      <td>Girls Fashion</td>\n",
       "      <td>Girl Shoes</td>\n",
       "    </tr>\n",
       "    <tr>\n",
       "      <th>20308</th>\n",
       "      <td>Shopee | Baby &amp; Toys | Girls Fashion | Girl Dr...</td>\n",
       "      <td>Baby &amp; Toys</td>\n",
       "      <td>Girls Fashion</td>\n",
       "      <td>Girl Dresses</td>\n",
       "    </tr>\n",
       "    <tr>\n",
       "      <th>20309</th>\n",
       "      <td>Shopee | Muslim Fashion | Kain Pasang &amp; Songke...</td>\n",
       "      <td>Muslim Fashion</td>\n",
       "      <td>Kain Pasang &amp; Songket</td>\n",
       "      <td>Kain Pasang Cotton</td>\n",
       "    </tr>\n",
       "    <tr>\n",
       "      <th>20310</th>\n",
       "      <td>Shopee | Baby &amp; Toys | Others | Others</td>\n",
       "      <td>Baby &amp; Toys</td>\n",
       "      <td>Others</td>\n",
       "      <td>Others</td>\n",
       "    </tr>\n",
       "    <tr>\n",
       "      <th>20311</th>\n",
       "      <td>Shopee | Fashion Accessories | Eyewear | Eyegl...</td>\n",
       "      <td>Fashion Accessories</td>\n",
       "      <td>Eyewear</td>\n",
       "      <td>Eyeglasses</td>\n",
       "    </tr>\n",
       "  </tbody>\n",
       "</table>\n",
       "<p>20312 rows × 4 columns</p>\n",
       "</div>"
      ],
      "text/plain": [
       "                                           item_category        main_category  \\\n",
       "0      Shopee | Women's Bags | Shoulder Bags | Should...         Women's Bags   \n",
       "1      Shopee | Home Appliances | Sewing Machines | S...      Home Appliances   \n",
       "2        Shopee | Women's Bags | Handbags | Set Handbags         Women's Bags   \n",
       "3      Shopee | Women Clothes | Maternity Wear | Inne...        Women Clothes   \n",
       "4       Shopee | Cameras & Drones | DSLR Cameras | DSLRs     Cameras & Drones   \n",
       "...                                                  ...                  ...   \n",
       "20307  Shopee | Baby & Toys | Girls Fashion | Girl Shoes          Baby & Toys   \n",
       "20308  Shopee | Baby & Toys | Girls Fashion | Girl Dr...          Baby & Toys   \n",
       "20309  Shopee | Muslim Fashion | Kain Pasang & Songke...       Muslim Fashion   \n",
       "20310             Shopee | Baby & Toys | Others | Others          Baby & Toys   \n",
       "20311  Shopee | Fashion Accessories | Eyewear | Eyegl...  Fashion Accessories   \n",
       "\n",
       "               subcategory_1                    subcategory_2  \n",
       "0              Shoulder Bags                    Shoulder Bags  \n",
       "1            Sewing Machines  Sewing Machines and Accessories  \n",
       "2                   Handbags                     Set Handbags  \n",
       "3             Maternity Wear                        Innerwear  \n",
       "4               DSLR Cameras                            DSLRs  \n",
       "...                      ...                              ...  \n",
       "20307          Girls Fashion                       Girl Shoes  \n",
       "20308          Girls Fashion                     Girl Dresses  \n",
       "20309  Kain Pasang & Songket               Kain Pasang Cotton  \n",
       "20310                 Others                           Others  \n",
       "20311                Eyewear                       Eyeglasses  \n",
       "\n",
       "[20312 rows x 4 columns]"
      ]
     },
     "execution_count": 28,
     "metadata": {},
     "output_type": "execute_result"
    }
   ],
   "source": [
    "#Q item_category detail may have this format: “Shopee | Women's Clothing | Outerwear |\n",
    "#Coats & Jackets”. We can split it into:\n",
    "#Main category : Women’s Clothing\n",
    "#Subcategory 1 : Outerwear\n",
    "#Subcategory 2 : Coats & Jackets\n",
    "# Split the category detail into main category, subcategory 1, and subcategory 2\n",
    "split_categories = df['item_category'].str.split('|', expand=True)\n",
    "\n",
    "# Assign the split elements to the new columns\n",
    "df['main_category'] = split_categories[1].str.strip()\n",
    "df['subcategory_1'] = split_categories[2].str.strip()\n",
    "df['subcategory_2'] = split_categories[3].str.strip()\n",
    "df[['item_category','main_category','subcategory_1','subcategory_2']]\n"
   ]
  },
  {
   "cell_type": "code",
   "execution_count": 29,
   "id": "4abe6d27-0586-47db-95eb-5d8a82eed8bf",
   "metadata": {},
   "outputs": [
    {
     "name": "stdout",
     "output_type": "stream",
     "text": [
      "         main_category  product_count\n",
      "       Health & Beauty           2464\n",
      "           Men Clothes           2458\n",
      "         Women Clothes           2232\n",
      "  Mobile & Accessories           1887\n",
      "           Baby & Toys           1496\n",
      "         Home & Living           1316\n",
      "      Groceries & Pets           1130\n",
      "       Home Appliances            948\n",
      "            Automotive            822\n",
      "      Sports & Outdoor            788\n",
      "          Women's Bags            623\n",
      "               Watches            533\n",
      "  Men's Bags & Wallets            492\n",
      "      Cameras & Drones            452\n",
      "           Women Shoes            444\n",
      "        Muslim Fashion            419\n",
      "   Fashion Accessories            410\n",
      "Computer & Accessories            391\n",
      "Games, Books & Hobbies            345\n",
      "             Men Shoes            209\n",
      "      Travel & Luggage            154\n",
      "     Gaming & Consoles            148\n",
      "    Tickets & Vouchers            106\n",
      "                Others             45\n"
     ]
    }
   ],
   "source": [
    "#Q. Show number of listing products based on main category.\n",
    "\n",
    "number_of_listing_products=df.groupby('main_category').size().reset_index(name='product_count').sort_values(by='product_count',ascending=False)\n",
    "print(number_of_listing_products.to_string(index=False))"
   ]
  },
  {
   "cell_type": "code",
   "execution_count": 30,
   "id": "b82336ab-1686-4dc4-ab84-99d397fcce59",
   "metadata": {},
   "outputs": [
    {
     "name": "stdout",
     "output_type": "stream",
     "text": [
      "     main_category       subcategory_1  count\n",
      "0  Health & Beauty   Personal Pleasure  187.0\n",
      "1  Health & Beauty           Foot Care  156.0\n",
      "2  Health & Beauty         Eye Make Up  155.0\n",
      "3  Health & Beauty            Sun Care  155.0\n",
      "4  Health & Beauty        OTC Medicine  144.0\n",
      "0      Men Clothes                Sets  328.0\n",
      "1      Men Clothes               Suits  272.0\n",
      "2      Men Clothes              Others  192.0\n",
      "3      Men Clothes           Innerwear  188.0\n",
      "4      Men Clothes               Pants  188.0\n",
      "0    Women Clothes  Sports & Beachwear  221.0\n",
      "1    Women Clothes                Tops  213.0\n",
      "2    Women Clothes           Outerwear  213.0\n",
      "3    Women Clothes              Skirts  185.0\n",
      "4    Women Clothes              Others  184.0\n"
     ]
    }
   ],
   "source": [
    "#Q Get the top 3 main categories with the most products\n",
    "top_main_categories = df['main_category'].value_counts().nlargest(3).index\n",
    "\n",
    "# Get the top 5 subcategory 1 for each top main category\n",
    "top_subcategories = pd.DataFrame(columns=['main_category', 'subcategory_1'])\n",
    "for main_category in top_main_categories:\n",
    "    filtered_df = df[df['main_category'] == main_category]\n",
    "    top_5_subcategories = filtered_df['subcategory_1'].value_counts().nlargest(5).reset_index()\n",
    "    top_5_subcategories.columns = ['subcategory_1', 'count']\n",
    "    top_5_subcategories['main_category'] = main_category\n",
    "    top_subcategories = pd.concat([top_subcategories, top_5_subcategories])\n",
    "\n",
    "print(top_subcategories)"
   ]
  },
  {
   "cell_type": "code",
   "execution_count": 31,
   "id": "0cddb3f3-9524-4092-953d-3614cdb009ca",
   "metadata": {},
   "outputs": [
    {
     "name": "stdout",
     "output_type": "stream",
     "text": [
      "                        min          max\n",
      "main_category                           \n",
      "Automotive             0.00    205500.00\n",
      "Baby & Toys            0.00     99999.00\n",
      "Cameras & Drones       0.10     42259.00\n",
      "Computer & Accessories 0.10     12349.00\n",
      "Fashion Accessories    0.10      1000.00\n",
      "Games, Books & Hobbies 0.10       999.00\n",
      "Gaming & Consoles      0.10       949.00\n",
      "Groceries & Pets       0.08      9999.00\n",
      "Health & Beauty        0.00     10000.00\n",
      "Home & Living          0.06       999.00\n",
      "Home Appliances        0.10 999999999.00\n",
      "Men Clothes            0.00      1849.00\n",
      "Men Shoes              0.10       730.34\n",
      "Men's Bags & Wallets   0.00      2174.00\n",
      "Mobile & Accessories   0.08      9999.00\n",
      "Muslim Fashion         0.29       278.00\n",
      "Others                 0.10       188.00\n",
      "Sports & Outdoor       0.10      1590.00\n",
      "Tickets & Vouchers     0.00      9999.00\n",
      "Travel & Luggage       0.10    137171.40\n",
      "Watches                0.35     13810.42\n",
      "Women Clothes          0.00       429.00\n",
      "Women Shoes            0.20       499.00\n",
      "Women's Bags           0.00      9999.99\n"
     ]
    }
   ],
   "source": [
    "price_range_per_category = df.groupby('main_category')['price_actual'].agg(['min', 'max'])\n",
    "pd.options.display.float_format = '{:.2f}'.format\n",
    "print(price_range_per_category)\n"
   ]
  },
  {
   "cell_type": "code",
   "execution_count": 32,
   "id": "995783f9-0782-46e3-afb0-89f3bdf45289",
   "metadata": {},
   "outputs": [
    {
     "name": "stdout",
     "output_type": "stream",
     "text": [
      "                        lowest_price  highest_price\n",
      "main_category                                      \n",
      "Automotive                      0.00      205500.00\n",
      "Baby & Toys                     0.00       99999.00\n",
      "Cameras & Drones                0.10       42259.00\n",
      "Computer & Accessories          0.10       12349.00\n",
      "Fashion Accessories             0.10        1000.00\n",
      "Games, Books & Hobbies          0.10         999.00\n",
      "Gaming & Consoles               0.10         949.00\n",
      "Groceries & Pets                0.08        9999.00\n",
      "Health & Beauty                 0.00       10000.00\n",
      "Home & Living                   0.06         999.00\n",
      "Home Appliances                 0.10   999999999.00\n",
      "Men Clothes                     0.00        1849.00\n",
      "Men Shoes                       0.10         730.34\n",
      "Men's Bags & Wallets            0.00        2174.00\n",
      "Mobile & Accessories            0.08        9999.00\n",
      "Muslim Fashion                  0.29         278.00\n",
      "Others                          0.10         188.00\n",
      "Sports & Outdoor                0.10        1590.00\n",
      "Tickets & Vouchers              0.00        9999.00\n",
      "Travel & Luggage                0.10      137171.40\n",
      "Watches                         0.35       13810.42\n",
      "Women Clothes                   0.00         429.00\n",
      "Women Shoes                     0.20         499.00\n",
      "Women's Bags                    0.00        9999.99\n"
     ]
    }
   ],
   "source": [
    "\n",
    "#Q Sort DataFrame by 'price' within each main category group\n",
    "sorted_df = df.sort_values(by=['main_category', 'price_actual'])\n",
    "\n",
    "# Get lowest and highest price for each main category\n",
    "lowest_price_per_category = sorted_df.groupby('main_category').first()['price_actual']\n",
    "highest_price_per_category = sorted_df.groupby('main_category').last()['price_actual']\n",
    "\n",
    "# Combine into a DataFrame\n",
    "price_range_per_category = pd.DataFrame({'lowest_price': lowest_price_per_category, 'highest_price': highest_price_per_category})\n",
    "\n",
    "print(price_range_per_category)"
   ]
  },
  {
   "cell_type": "code",
   "execution_count": 33,
   "id": "96b720cb-ca6f-4344-8829-9c1aa43d1f20",
   "metadata": {},
   "outputs": [
    {
     "name": "stdout",
     "output_type": "stream",
     "text": [
      "main_category\n",
      "Home Appliances          2001554399.78\n",
      "Automotive                  3613889.73\n",
      "Watches                      710875.80\n",
      "Mobile & Accessories         614001.69\n",
      "Cameras & Drones             517080.10\n",
      "Travel & Luggage             433249.42\n",
      "Baby & Toys                  333809.15\n",
      "Men Clothes                  205752.36\n",
      "Computer & Accessories       175657.77\n",
      "Health & Beauty              158713.00\n",
      "Sports & Outdoor             139734.54\n",
      "Women's Bags                 134925.37\n",
      "Men's Bags & Wallets         114715.18\n",
      "Women Clothes                103649.49\n",
      "Groceries & Pets              97365.32\n",
      "Home & Living                 70335.26\n",
      "Tickets & Vouchers            38307.61\n",
      "Women Shoes                   32448.17\n",
      "Muslim Fashion                30771.29\n",
      "Fashion Accessories           15156.28\n",
      "Men Shoes                     11905.76\n",
      "Games, Books & Hobbies        11785.45\n",
      "Gaming & Consoles              9001.56\n",
      "Others                         1363.21\n",
      "Name: selling_price, dtype: float64\n"
     ]
    }
   ],
   "source": [
    "#Q Calculate revenue for each main category\n",
    "revenue_per_category = df.groupby('main_category')['selling_price'].sum()\n",
    "\n",
    "# Sort the revenue in descending order\n",
    "revenue_per_category_sorted = revenue_per_category.sort_values(ascending=False)\n",
    "\n",
    "print(revenue_per_category_sorted)"
   ]
  },
  {
   "cell_type": "code",
   "execution_count": 35,
   "id": "f1698aba-1b26-43e8-93b2-fb8f8c484a82",
   "metadata": {},
   "outputs": [],
   "source": [
    "df.to_csv('shopee_cleaned_data.csv',index=False)"
   ]
  },
  {
   "cell_type": "code",
   "execution_count": null,
   "id": "ef05c534-3372-4484-9f60-f5cf7367c2b3",
   "metadata": {},
   "outputs": [],
   "source": []
  }
 ],
 "metadata": {
  "kernelspec": {
   "display_name": "Python 3 (ipykernel)",
   "language": "python",
   "name": "python3"
  },
  "language_info": {
   "codemirror_mode": {
    "name": "ipython",
    "version": 3
   },
   "file_extension": ".py",
   "mimetype": "text/x-python",
   "name": "python",
   "nbconvert_exporter": "python",
   "pygments_lexer": "ipython3",
   "version": "3.11.7"
  }
 },
 "nbformat": 4,
 "nbformat_minor": 5
}
